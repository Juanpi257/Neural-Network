{
 "cells": [
  {
   "cell_type": "code",
   "execution_count": 1,
   "id": "bac45c99",
   "metadata": {},
   "outputs": [],
   "source": [
    "import tensorflow as tf\n",
    "import numpy as np"
   ]
  },
  {
   "cell_type": "code",
   "execution_count": 2,
   "id": "50e8c5ac",
   "metadata": {},
   "outputs": [],
   "source": [
    "celsius = np.array([-40, -10, 0 , 8, 15, 22, 38], dtype=float)\n",
    "fanhrenheit = np.array([-40, 14, 32, 46, 59, 72, 100], dtype=float)"
   ]
  },
  {
   "cell_type": "code",
   "execution_count": 3,
   "id": "81cb189e",
   "metadata": {},
   "outputs": [],
   "source": [
    "# capas = tf.keras.layers.Dense(units=1, input_shape=[1])\n",
    "# modelo = tf.keras.Sequential([capas])\n",
    "\n",
    "oculta1 = tf.keras.layers.Dense(units=3, input_shape=[1])\n",
    "oculta2 = tf.keras.layers.Dense(units=3)\n",
    "salida = tf.keras.layers.Dense(units=1)\n",
    "modelo = tf.keras.Sequential([oculta1, oculta2, salida])"
   ]
  },
  {
   "cell_type": "code",
   "execution_count": 4,
   "id": "2043d57e",
   "metadata": {},
   "outputs": [],
   "source": [
    "modelo.compile(\n",
    "    optimizer = tf.keras.optimizers.Adam(0.1),\n",
    "    loss='mean_squared_error'\n",
    ")"
   ]
  },
  {
   "cell_type": "code",
   "execution_count": 5,
   "id": "bb3367b5",
   "metadata": {},
   "outputs": [
    {
     "name": "stdout",
     "output_type": "stream",
     "text": [
      "Comenzando entrenamineto.....\n",
      "Modelo entrenado!\n"
     ]
    }
   ],
   "source": [
    "print('Comenzando entrenamineto.....')\n",
    "historial = modelo.fit(celsius, fanhrenheit, epochs=100, verbose=False)\n",
    "print('Modelo entrenado!')"
   ]
  },
  {
   "cell_type": "code",
   "execution_count": 6,
   "id": "880cd44c",
   "metadata": {},
   "outputs": [
    {
     "data": {
      "text/plain": [
       "[<matplotlib.lines.Line2D at 0x21ea0afd910>]"
      ]
     },
     "execution_count": 6,
     "metadata": {},
     "output_type": "execute_result"
    },
    {
     "data": {
      "image/png": "[encoded data removed]",
      "text/plain": [
       "<Figure size 432x288 with 1 Axes>"
      ]
     },
     "metadata": {
      "needs_background": "light"
     },
     "output_type": "display_data"
    }
   ],
   "source": [
    "import matplotlib.pyplot as plt\n",
    "plt.xlabel('# Epoca')\n",
    "plt.ylabel('Magnitud de perdida')\n",
    "plt.plot(historial.history['loss'])"
   ]
  },
  {
   "cell_type": "code",
   "execution_count": 7,
   "id": "ab10b042",
   "metadata": {},
   "outputs": [
    {
     "name": "stdout",
     "output_type": "stream",
     "text": [
      "Hagamos una prediccion\n",
      "El resultado es[[121.56278]] Fahrenheit\n"
     ]
    }
   ],
   "source": [
    "print('Hagamos una prediccion')\n",
    "resultado = modelo.predict([50.0])\n",
    "print('El resultado es' + str(resultado) + ' Fahrenheit')"
   ]
  },
  {
   "cell_type": "code",
   "execution_count": 8,
   "id": "50d523c3",
   "metadata": {},
   "outputs": [
    {
     "name": "stdout",
     "output_type": "stream",
     "text": [
      "Variables internas del modelo\n",
      "[array([[-0.3411678 , -0.15508488,  0.74065596]], dtype=float32), array([ 2.0884929, -2.5031075,  3.451399 ], dtype=float32)]\n",
      "[array([[ 0.06662441, -1.1179032 ,  0.11953773],\n",
      "       [-0.85928106,  0.29865378,  0.3110034 ],\n",
      "       [ 0.5544678 , -0.784226  , -0.9923699 ]], dtype=float32), array([ 3.0797403, -3.308774 , -3.195447 ], dtype=float32)]\n",
      "[array([[ 0.5453668],\n",
      "       [-1.6599915],\n",
      "       [-1.3379956]], dtype=float32), array([3.1852326], dtype=float32)]\n"
     ]
    }
   ],
   "source": [
    "print('Variables internas del modelo')\n",
    "# print(capas.get_weights())\n",
    "print(oculta1.get_weights())\n",
    "print(oculta2.get_weights())\n",
    "print(salida.get_weights())"
   ]
  }
 ],
 "metadata": {
  "kernelspec": {
   "display_name": "Python 3",
   "language": "python",
   "name": "python3"
  },
  "language_info": {
   "codemirror_mode": {
    "name": "ipython",
    "version": 3
   },
   "file_extension": ".py",
   "mimetype": "text/x-python",
   "name": "python",
   "nbconvert_exporter": "python",
   "pygments_lexer": "ipython3",
   "version": "3.8.8"
  }
 },
 "nbformat": 4,
 "nbformat_minor": 5
}
